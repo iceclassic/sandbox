{
 "cells": [
  {
   "cell_type": "markdown",
   "id": "df5f3d7e",
   "metadata": {},
   "source": [
    "# Sensitivity analysis with DVARS\n",
    "## --Data-driven Variogram Analysis of Response Surfaces--\n",
    "\n",
    "This notebook uses the Monaco package to do a sensitivy analysis of the input data on the output data. No need to do any simulation. The package typically utilizes a Monte Carlo simulation approach, but we can circumvent this by simply giving our own input and output variables with their values.\n",
    "\n",
    "I've made a small template we can use."
   ]
  },
  {
   "cell_type": "code",
   "execution_count": 1,
   "id": "c244446b",
   "metadata": {},
   "outputs": [
    {
     "name": "stderr",
     "output_type": "stream",
     "text": [
      "C:\\Users\\mvandenberg7\\AppData\\Local\\anaconda3\\Lib\\site-packages\\monaco\\dvars_sensitivity.py:19: UserWarning: Consider installing numba for better performance\n",
      "  warn(\"Consider installing numba for better performance\", UserWarning)\n"
     ]
    }
   ],
   "source": [
    "# Import the Monaco package to run our sensitivity analysis\n",
    "import monaco as mc\n"
   ]
  },
  {
   "cell_type": "code",
   "execution_count": 2,
   "id": "718405e6",
   "metadata": {},
   "outputs": [],
   "source": [
    "# The preprocessing function should only take in an Case object, and extract the\n",
    "# values from inside it in order to build the inputs for the run function.\n",
    "def template_preprocess(case):\n",
    "\n",
    "#     variables = {\n",
    "#         'In1' : case.invals['Var1'].val,\n",
    "#         'In2' : case.invals['Var2'].val,\n",
    "#         'In3' : case.invals['Var3'].val,\n",
    "#         'In4' : case.invals['Var4'].val,\n",
    "#         'In5' : case.invals['Var5'].val,\n",
    "#         'In6' : case.invals['Var6'].val,\n",
    "#         'In7' : case.invals['Var7'].val,\n",
    "#         'In8' : case.invals['Var8'].val,\n",
    "#         'In9' : case.invals['Var9'].val,\n",
    "#         'In10' : case.invals['Var10'].val,\n",
    "#         'In11' : case.invals['Var11'].val,\n",
    "#         'In12' : case.invals['Var12'].val,\n",
    "#         'In13' : case.invals['Var13'].val,\n",
    "#         'In14' : case.invals['Var14'].val,\n",
    "#         'In15' : case.invals['Var15'].val,\n",
    "#         'In16' : case.invals['Var16'].val,\n",
    "#         'In17' : case.invals['Var17'].val,\n",
    "#         'In18' : case.invals['Var18'].val,\n",
    "#         'In19' : case.invals['Var19'].val,\n",
    "#         'In20' : case.invals['Var20'].val,\n",
    "#         'In21' : case.invals['Var21'].val,\n",
    "#         'In22' : case.invals['Var22'].val,\n",
    "#         'In23' : case.invals['Var23'].val,\n",
    "#         'In24' : case.invals['Var24'].val\n",
    "#     }\n",
    "    \n",
    "    return variables"
   ]
  },
  {
   "cell_type": "code",
   "execution_count": 3,
   "id": "5f0f2ad3",
   "metadata": {},
   "outputs": [],
   "source": [
    "# The run function input arguments need to match up with the outputs in the unpacked\n",
    "# tuple from your preprocessing function\n",
    "def template_run():\n",
    "    \n",
    "    # We do nothing with the input so we just return the variables\n",
    "    \n",
    "    return"
   ]
  },
  {
   "cell_type": "code",
   "execution_count": 4,
   "id": "2fc4acec",
   "metadata": {},
   "outputs": [],
   "source": [
    "# For your postprocessing function, the first argument must be the case, and\n",
    "# all input arguments after case need to match up with the outputs in the unpacked\n",
    "# tuple from your run function.\n",
    "def template_postprocess(case):\n",
    "    \n",
    "    # Don't actually have any output so simply add OutVals only\n",
    "\n",
    "    return"
   ]
  },
  {
   "cell_type": "code",
   "execution_count": 5,
   "id": "b7a4fcf9",
   "metadata": {},
   "outputs": [],
   "source": [
    "# These get packaged in the following format for Sim to consume:\n",
    "fcns = {'preprocess' : template_preprocess,\n",
    "        'run'        : template_run,\n",
    "        'postprocess': template_postprocess}"
   ]
  },
  {
   "cell_type": "code",
   "execution_count": 6,
   "id": "650ea58e",
   "metadata": {},
   "outputs": [],
   "source": [
    "ndraws = 128\n",
    "# We first initialize the sim with a name of our choosing\n",
    "sim = mc.Sim(name='DVARS', ndraws=ndraws, fcns=fcns,\n",
    "             firstcaseismedian=False,\n",
    "             singlethreaded=True,\n",
    "             savecasedata=False, savesimdata=False,\n",
    "             verbose=True, debug=False)"
   ]
  },
  {
   "cell_type": "code",
   "execution_count": 7,
   "id": "aae14787",
   "metadata": {},
   "outputs": [
    {
     "name": "stdout",
     "output_type": "stream",
     "text": [
      "Generating cases... Done\n"
     ]
    }
   ],
   "source": [
    "sim.genCases()\n",
    "len(sim.cases)\n",
    "data, filepath = sim.importVars(r\"C:\\Users\\mvandenberg7\\surfdrive\\PhD\\ice_classic\\sandbox\\content\\DVARS\\test_invars.csv\")"
   ]
  },
  {
   "cell_type": "code",
   "execution_count": null,
   "id": "089b8506",
   "metadata": {},
   "outputs": [],
   "source": [
    "data.items()"
   ]
  },
  {
   "cell_type": "code",
   "execution_count": 8,
   "id": "6cc0e322",
   "metadata": {},
   "outputs": [
    {
     "name": "stdout",
     "output_type": "stream",
     "text": [
      "Importing InVals from file...\n",
      "[None, None, None, None, None, None, None, None, None, None, None, None, None, None, None, None, None, None, None, None, None, None, None, None, None, None, None, None, None, None, None, None, None, None, None, None, None, None, None, None, None, None, None, None, None, None, None, None, None, None, None, None, None, None, None, None, None, None, None, None, None, None, None, None, None, None, None, None, None, None, None, None, None, None, None, None, None, None, None, None, None, None, None, None, None, None, None, None, None, None, None, None, None, None, None, None, None, None, None, None, None, None, None, None, None, None, None, None, None, None, None, None, None, None, None, None, None, None, None, None, None, None, None, None, None, None, None, None]\n",
      "[array(0.6891018), array(0.71285949), array(0.72152417), array(0.68121696), array(0.65399028), array(0.73450216), array(0.70387554), array(0.69449225), array(0.69942383), array(0.70208281), array(0.7284099), array(0.675211), array(0.68374245), array(0.7142012), array(0.70728087), array(0.69105491), array(0.69250303), array(0.70912838), array(0.71648897), array(0.68553785), array(0.67102507), array(0.72514997), array(0.70074172), array(0.69771419), array(0.69634254), array(0.70534935), array(0.74408291), array(0.66641036), array(0.6788545), array(0.71854687), array(0.71072158), array(0.6874028), array(0.68779101), array(0.71038946), array(0.71902066), array(0.67839204), array(0.66732325), array(0.74050889), array(0.70555445), array(0.6959737), array(0.697377), array(0.70102234), array(0.7244734), array(0.67171283), array(0.68522475), array(0.71701295), array(0.70889334), array(0.69288134), array(0.69135607), array(0.70691717), array(0.71452757), array(0.68331005), array(0.6759985), array(0.72778148), array(0.70243197), array(0.69920451), array(0.69419716), array(0.70420787), array(0.73337148), array(0.65743213), array(0.68060104), array(0.72192927), array(0.71242394), array(0.68933645), array(0.68999739), array(0.7119121), array(0.72298095), array(0.67995921), array(0.66125493), array(0.73145019), array(0.70467521), array(0.6936749), array(0.69863757), array(0.70287342), array(0.72641037), array(0.67681463), array(0.68262846), array(0.71522568), array(0.70644799), array(0.69191381), array(0.69333913), array(0.70826602), array(0.71761377), array(0.68450359), array(0.67309957), array(0.7235121), array(0.70152822), array(0.69692263), array(0.69554499), array(0.70616451), array(0.73779195), array(0.66926761), array(0.67742921), array(0.71978979), array(0.7098297), array(0.68834305), array(0.68683428), array(0.71129478), array(0.71782064), array(0.67974832), array(0.66388592), array(0.75052783), array(0.704746), array(0.69676799), array(0.69816636), array(0.70023671), array(0.72621767), array(0.66940243), array(0.68623259), array(0.71591548), array(0.70976811), array(0.69203816), array(0.69048647), array(0.70775706), array(0.71352801), array(0.68439387), array(0.67430858), array(0.73000019), array(0.70164332), array(0.69999), array(0.69500853), array(0.70341196), array(0.73706068), array(0.63822739), array(0.68182191), array(0.72055049), array(0.71338701), array(0.68842455)]\n",
      "[array(2.51900577), array(2.48725166), array(2.51052619), array(2.47859332), array(2.50527365), array(2.46773817), array(2.54826874), array(2.49581905), array(2.50713126), array(2.48356128), array(2.51469427), array(2.49109427), array(2.52892766), array(2.49887021), array(2.50204203), array(2.47596511), array(2.50042777), array(2.4722195), array(2.52514739), array(2.49734557), array(2.51676154), array(2.49274226), array(2.50888797), array(2.48572433), array(2.53499694), array(2.49414824), array(2.50371218), array(2.46015655), array(2.51230804), array(2.48111998), array(2.52172274), array(2.48917126), array(2.51080233), array(2.47831802), array(2.51892011), array(2.48766071), array(2.54003557), array(2.49626101), array(2.50582748), array(2.46510923), array(2.51424193), array(2.49114112), array(2.50728261), array(2.48320563), array(2.50267745), array(2.47480264), array(2.5277133), array(2.49959809), array(2.52398706), array(2.49798117), array(2.50115599), array(2.47099714), array(2.50893407), array(2.48527185), array(2.51640677), array(2.49289284), array(2.50415472), array(2.45219397), array(2.53234594), array(2.49470291), array(2.521448), array(2.48944729), array(2.51271629), array(2.4810356), array(2.50625977), array(2.46303898), array(2.53735773), array(2.49668057), array(2.51828457), array(2.48815595), array(2.51128286), array(2.47756038), array(2.52677714), array(2.49996815), array(2.50305124), array(2.47396185), array(2.50767895), array(2.4826737), array(2.51376946), array(2.49154689), array(2.51590153), array(2.49328015), array(2.50933902), array(2.48478928), array(2.50152118), array(2.46991305), array(2.52325553), array(2.49834706), array(2.51323431), array(2.48036666), array(2.52071618), array(2.48992671), array(2.53088328), array(2.4951359), array(2.50458411), array(2.42232682), array(2.56574336), array(2.49543909), array(2.50489056), array(2.46903121), array(2.51010297), array(2.47923875), array(2.51959567), array(2.48679442), array(2.50162671), array(2.47679618), array(2.53015938), array(2.49845564), array(2.51524119), array(2.49063576), array(2.50669267), array(2.48413395), array(2.50842765), array(2.4862598), array(2.51736437), array(2.49229271), array(2.5260982), array(2.49692259), array(2.50000906), array(2.47327812), array(2.52239147), array(2.48874747), array(2.51187123), array(2.48168107), array(2.50334306), array(2.46250919), array(2.53681775), array(2.49376788)]\n",
      "[array(0.73531759), array(0.67692806), array(0.70099741), array(0.69622338), array(0.67947151), array(0.71738674), array(0.69109831), array(0.7129447), array(0.68916733), array(0.70689539), array(0.68454334), array(0.7181907), array(0.70521349), array(0.6975595), array(0.72699062), array(0.64311596), array(0.70883925), array(0.68710994), array(0.72043281), array(0.68267795), array(0.69894895), array(0.7038187), array(0.66442502), array(0.72315242), array(0.67311934), array(0.75421623), array(0.69483238), array(0.70238349), array(0.71551237), array(0.68172821), array(0.71088056), array(0.69304774), array(0.68605317), array(0.72016507), array(0.68959163), array(0.70738972), array(0.73017815), array(0.66151309), array(0.70559256), array(0.69802915), array(0.7006772), array(0.6958006), array(0.73097717), array(0.67441837), array(0.69074701), array(0.71243416), array(0.67751069), array(0.71569555), array(0.69434858), array(0.7020154), array(0.6696439), array(0.73877354), array(0.71034707), array(0.69265452), array(0.71387865), array(0.67990345), array(0.72257302), array(0.68422729), array(0.70930236), array(0.68749713), array(0.66915912), array(0.72546081), array(0.69936416), array(0.70414464), array(0.69703), array(0.7049716), array(0.65670019), array(0.72738788), array(0.70677709), array(0.68846779), array(0.71861812), array(0.68530971), array(0.71708304), array(0.67860487), array(0.71316989), array(0.69183742), array(0.67567176), array(0.73468744), array(0.6967841), array(0.7012534), array(0.68144554), array(0.71462022), array(0.69326662), array(0.71146907), array(0.7437737), array(0.67246691), array(0.70301489), array(0.69496998), array(0.70316168), array(0.69878796), array(0.72421635), array(0.66549708), array(0.6867597), array(0.70821084), array(0.68283534), array(0.72147386), array(0.71177439), array(0.69045839), array(0.7165619), array(0.67775925), array(0.69561107), array(0.70000553), array(0.67487978), array(0.73276793), array(0.65952892), array(0.72849657), array(0.69813838), array(0.70622055), array(0.71911675), array(0.6858477), array(0.70795798), array(0.68985514), array(0.72521144), array(0.66702531), array(0.70443123), array(0.69994095), array(0.68350051), array(0.72213604), array(0.68827837), array(0.7094782), array(0.69198405), array(0.71019183), array(0.68079849), array(0.71420544), array(0.70180475), array(0.69382604), array(0.74004204), array(0.6716253)]\n",
      "[array(3.32499876), array(3.25692564), array(3.3007214), array(3.29431716), array(3.28942708), array(3.30903658), array(3.2808157), array(3.31654396), array(3.31139509), array(3.29190448), array(3.31786759), array(3.28243621), array(3.27687301), array(3.35614783), array(3.29861808), array(3.30474554), array(3.27723096), array(3.31356923), array(3.28841387), array(3.30784563), array(3.30161646), array(3.29541774), array(3.33029954), array(3.26903776), array(3.29752354), array(3.30385612), array(3.27177587), array(3.3341733), array(3.32154713), array(3.28526863), array(3.3126713), array(3.29286518), array(3.26399238), array(3.32720735), array(3.29654165), array(3.30287272), array(3.30672108), array(3.28684306), array(3.31525094), array(3.27913844), array(3.292578), array(3.31204965), array(3.28593414), array(3.3220337), array(3.33232408), array(3.2708882), array(3.30418039), array(3.29799113), array(3.31699588), array(3.28153953), array(3.3085247), array(3.28905963), array(3.29485012), array(3.30099062), array(3.25367037), array(3.32391377), array(3.30609115), array(3.29967126), array(3.33973191), array(3.27412779), array(3.28400199), array(3.31981256), array(3.29052996), array(3.31012242), array(3.29928239), array(3.30568519), array(3.27499963), array(3.34302049), array(3.31917812), array(3.28345268), array(3.31057388), array(3.29096945), array(3.28213586), array(3.31756942), array(3.28859859), array(3.30809468), array(3.30137968), array(3.29525058), array(3.32313731), array(3.24388861), array(3.31158707), array(3.2921602), array(3.32276167), array(3.28642783), array(3.26969829), array(3.33094481), array(3.2983873), array(3.30458453), array(3.32823858), array(3.26582997), array(3.30247417), array(3.29613998), array(3.28732208), array(3.30713395), array(3.27845709), array(3.31473645), array(3.30346085), array(3.29713133), array(3.33597969), array(3.27279025), array(3.28474616), array(3.32085521), array(3.29328446), array(3.31315772), array(3.31407055), array(3.27797024), array(3.30742135), array(3.2879441), array(3.29581558), array(3.30200646), array(3.26767916), array(3.32912755), array(3.29148098), array(3.31094104), array(3.28300107), array(3.31845489), array(3.34624983), array(3.27608439), array(3.30515238), array(3.29901334), array(3.26027475), array(3.32588493), array(3.29390468), array(3.30032629), array(3.30946931), array(3.28987161), array(3.31600311), array(3.28019102)]\n",
      "[array(7.97897913), array(8.16323309), array(8.03863189), array(7.93016581), array(7.76883646), array(8.02651663), array(8.08642162), array(7.95768657), array(8.13257013), array(7.98450911), array(7.89331557), array(8.06373468), array(8.00028362), array(7.86856046), array(7.94724376), array(8.09608364), array(7.91862827), array(8.0459536), array(8.19851593), array(7.96978225), array(7.96516349), array(8.0741176), array(8.01764718), array(7.82154774), array(8.05774396), array(7.91087309), array(7.99518041), array(8.12189728), array(8.114586), array(7.94171834), array(7.85564124), array(8.01116206), array(7.95262669), array(8.07924286), array(8.02936528), array(7.80118171), array(7.92404022), array(8.03306697), array(8.17406584), array(7.98217634), array(8.09428323), array(7.94644747), array(7.88391366), array(8.0069779), array(8.06218302), array(7.89187702), array(7.99158618), array(8.1503953), array(7.8427962), array(8.02244278), array(8.07005425), array(7.96236668), array(7.97507778), array(8.25539708), array(8.04235781), array(7.91475769), array(8.01197938), array(7.85914865), array(7.93374848), array(8.10196888), array(8.12335554), array(7.99632983), array(7.90044068), array(8.04949189), array(8.08240601), array(7.95537976), array(7.80955398), array(8.03100888), array(8.03556443), array(7.92752916), array(7.9836455), array(8.18200068), array(7.94372354), array(8.09021256), array(8.00553147), array(7.88065288), array(7.88766814), array(8.05921972), array(8.14658869), array(7.99001344), array(8.01971512), array(7.83407573), array(7.96063506), array(8.0682306), array(8.21635535), array(7.97269762), array(7.91249469), array(8.04100411), array(7.8655543), array(8.01430404), array(8.10460691), array(7.93530111), array(7.99900255), array(8.12857771), array(8.05133127), array(7.90275307), array(8.15469259), array(7.97632634), array(7.92838569), array(8.03681909), array(8.02422399), array(7.65462637), array(7.95623691), array(8.08425021), array(7.98676427), array(8.13891698), array(8.06536748), array(7.89593826), array(7.87406304), array(8.00288328), array(8.09830129), array(7.94917919), array(8.04880577), array(7.92170839), array(7.97134632), array(8.20887304), array(8.0775936), array(7.96773133), array(7.82921288), array(8.01904574), array(7.90692016), array(8.05490442), array(8.11843776), array(7.9938151), array(7.93867494), array(8.110364), array(8.00966823), array(7.85181225)]\n",
      "[array(0.89831068), array(1.02907971), array(1.08396823), array(0.99063913), array(0.87178246), array(1.03529346), array(1.16256544), array(0.94260289), array(0.97661933), array(1.09246941), array(1.00334895), array(0.92460514), array(0.95797772), array(1.14327077), array(1.06431756), array(0.81196615), array(1.12259733), array(0.96088875), array(0.81863569), array(1.05130636), array(1.11102405), array(0.97531591), array(0.9209198), array(1.01198679), array(1.04458745), array(0.86536995), array(0.94114043), array(1.24079058), array(1.01779479), array(0.90027384), array(0.99329855), array(1.07239267), array(1.207222), array(0.93472392), array(0.84708203), array(1.04340962), array(1.07387428), array(0.99976187), array(0.90853966), array(1.02069581), array(1.05429844), array(0.8399753), array(0.96802992), array(1.12557512), array(1.01066462), array(0.91130741), array(0.97007698), array(1.10644061), array(0.93177577), array(1.00540284), array(1.09527742), array(0.98302391), array(0.74416079), array(1.0620412), array(1.13761577), array(0.95191706), array(0.98487519), array(1.08066483), array(1.02739388), array(0.88774132), array(0.94957693), array(1.16872373), array(1.03774884), array(0.88397278), array(0.95618606), array(1.14874158), array(1.06695907), array(0.79581178), array(0.97892551), array(1.08944), array(1.00158978), array(0.92660413), array(0.87575491), array(1.03365473), array(1.15455834), array(0.94498719), array(0.89462915), array(1.03159772), array(1.08636917), array(0.98871928), array(1.0166022), array(0.90259107), array(0.99595224), array(1.06868769), array(1.04766845), array(0.85884173), array(0.93958794), array(1.26687609), array(1.11340893), array(0.9742589), array(0.91711969), array(1.01450366), array(1.11723435), array(0.96396206), array(0.82429664), array(1.04972772), array(1.0080032), array(0.9155103), array(0.97130364), array(1.10396136), array(1.05581067), array(0.83605167), array(0.96510063), array(1.13133251), array(1.07752034), array(0.99726671), array(0.9065918), array(1.02174308), array(1.1982491), array(0.93643387), array(0.85500424), array(1.04028373), array(0.94714359), array(1.1794967), array(1.03950944), array(0.88019604), array(0.98665174), array(1.0785837), array(1.02506523), array(0.89142643), array(0.78123862), array(1.0595917), array(1.13313864), array(0.95364337), array(0.92965197), array(1.00731636), array(1.09872569), array(0.98057901)]\n",
      "[array(31.02342485), array(32.66884551), array(30.34894869), array(33.4956641), array(28.26414625), array(35.5601435), array(31.43952489), array(32.3583515), array(29.40086056), array(34.69565571), array(31.93351886), array(32.25708143), array(31.00445067), array(33.31573164), array(30.09013458), array(34.11875626), array(32.96565868), array(31.34157855), array(33.63716613), array(30.51718855), array(35.79286138), array(28.39071271), array(32.57077771), array(31.63174974), array(34.6219157), array(29.27963509), array(32.0763292), array(31.73315652), array(32.9845596), array(30.69651609), array(33.89438864), array(29.89814123), array(33.68794662), array(30.58846284), array(32.81780845), array(31.22034701), array(32.53668965), array(31.57775833), array(37.52242308), array(28.85380336), array(32.0820647), array(31.79863379), array(34.3161362), array(29.04847697), array(33.88818832), array(29.78711883), array(33.14714255), array(30.79590034), array(30.32613928), array(33.39905631), array(31.19273953), array(32.76902943), array(31.45305121), array(32.43221319), array(25.78465392), array(35.1806108), array(31.90809342), array(32.21110633), array(29.66473901), array(34.98117334), array(30.12711677), array(34.19508992), array(30.86431106), array(33.19228343), array(32.62022812), array(31.65868533), array(36.21034071), array(28.56031512), array(33.57367799), array(30.48052437), array(32.90368498), array(31.30214731), array(34.01747266), array(29.92631247), array(33.06079167), array(30.70507478), array(32.00116569), array(31.71534183), array(34.47427102), array(29.25911014), array(31.36958738), array(32.35132424), array(27.69422193), array(35.48322095), array(30.43951129), array(33.50634141), array(31.10727033), array(32.68750931), array(29.998633), array(34.05684118), array(30.95052477), array(33.28300556), array(31.98911692), array(32.29464284), array(29.50443264), array(34.76585783), array(27.6601018), array(35.22736013), array(31.51557336), array(32.43522167), array(31.11420357), array(32.7563303), array(30.2369892), array(33.39697256), array(30.91203885), array(33.21929515), array(30.2046502), array(34.25552092), array(29.57949187), array(34.91823186), array(31.85578207), array(32.17956562), array(36.45046682), array(28.73627701), array(32.49442967), array(31.554686), array(32.87489534), array(31.2541326), array(33.74873205), array(30.61557928), array(33.07657375), array(30.79235739), array(33.78083658), array(29.76303289), array(34.44108716), array(29.05338468), array(32.15397162), array(31.81052167)]\n",
      "[array(15.0934524), array(18.24203727), array(21.32339458), array(17.6310296), array(19.72082885), array(17.03916241), array(16.20261566), array(19.01825599), array(20.1685934), array(16.71209606), array(16.58785696), array(18.71161119), array(12.64969141), array(18.59783921), array(20.37387465), array(17.98071713), array(20.6674745), array(17.80954925), array(14.45229121), array(18.46163583), array(16.34551693), array(18.86560159), array(19.92969536), array(16.92855303), array(15.93003736), array(19.17242507), array(19.53749154), array(17.22821453), array(22.11333265), array(17.4454289), array(15.53979396), array(18.10022731), array(19.34230313), array(15.7499729), array(17.33545029), array(19.35641118), array(17.42778384), array(22.76537921), array(18.04375832), array(15.57563778), array(17.71356044), array(21.03998977), array(18.32421113), array(14.84009788), array(18.93316926), array(16.31411201), array(16.95410049), array(19.83467995), array(16.786666), array(20.12958156), array(18.73494207), array(16.50797232), array(18.49853423), array(14.25465687), array(17.84607051), array(20.5796528), array(18.22460643), array(15.24616864), array(17.57373435), array(21.39411261), array(17.19318621), array(19.57994341), array(19.13407015), array(15.98246427), array(16.44840917), array(18.78171812), array(20.05644644), array(16.84130068), array(20.4850143), array(17.89183287), array(13.95995903), array(18.54371624), array(21.6050225), array(17.53020271), array(15.35478751), array(18.17993777), array(16.05357909), array(19.08206669), array(19.64333712), array(17.14707448), array(19.4003617), array(17.29953507), array(15.81045505), array(19.29769984), array(15.6420679), array(18.00772004), array(23.87607181), array(17.39254256), array(14.70783078), array(18.35720092), array(20.93700348), array(17.74868715), array(19.78365427), array(16.9936213), array(16.26236039), array(18.96974124), array(18.41438097), array(14.63879207), array(17.76607843), array(20.78099922), array(16.87814586), array(20.00225127), array(18.81538611), array(16.40416407), array(17.27619972), array(19.47983919), array(19.22284402), array(15.84982266), array(18.14230564), array(15.43837284), array(17.4919487), array(21.80725789), array(17.66776602), array(21.20103368), array(18.27589643), array(14.98903546), array(19.05650169), array(16.14940572), array(17.07975149), array(19.67466473), array(18.67432078), array(16.63042728), array(16.67220503), array(20.23519477), array(17.94835772), array(20.44872889), array(18.56138354), array(13.37930676)]\n",
      "[array(37.32569259), array(41.81324187), array(40.02476465), array(38.82210516), array(41.08117466), array(39.74028045), array(37.80313238), array(42.48952747), array(40.72224223), array(39.4137381), array(38.29487231), array(43.3567166), array(36.22237298), array(41.39687692), array(40.35383591), array(39.18733395), array(39.58547862), array(40.90369279), array(44.42071468), array(38.52343599), array(41.59049316), array(36.87008559), array(39.34422365), array(40.50454252), array(42.08043718), array(37.68851506), array(39.01418533), array(40.19156346), array(39.88745705), array(41.25570476), array(42.84621429), array(38.05487915), array(40.87121576), array(39.63531683), array(38.5871133), array(44.1334303), array(36.33360997), array(41.74278658), array(40.61663751), array(39.20836), array(37.37383165), array(42.2380931), array(40.28036763), array(38.84472012), array(41.2437325), array(39.95599603), array(38.16222243), array(42.81977318), array(41.98234883), array(36.97517797), array(38.66700273), array(40.13251028), array(39.78963622), array(41.04739791), array(42.42680759), array(37.89036256), array(39.4849894), array(40.71186199), array(43.31695027), array(38.3913413), array(41.51180184), array(32.86623116), array(39.02493568), array(40.44367727), array(43.83510102), array(38.61589298), array(39.65586061), array(40.82373608), array(39.26687999), array(40.57629957), array(41.69074892), array(36.60421718), array(38.92970695), array(40.26981695), array(42.21444553), array(37.53237459), array(42.6496666), array(38.17227723), array(39.96522522), array(41.16671353), array(40.10250045), array(38.73283011), array(37.12547508), array(41.9298521), array(37.93589816), array(42.33145455), array(40.99643921), array(39.81850854), array(38.3957376), array(43.0982677), array(40.64506272), array(39.4855726), array(40.4243031), array(39.10754725), array(35.68165669), array(41.48974112), array(38.7684175), array(40.05340867), array(41.85336971), array(37.20581063), array(42.60370743), array(37.74275253), array(39.71013472), array(41.14344544), array(43.72151183), array(38.27094421), array(39.39401526), array(40.80200491), array(39.11824549), array(40.35435066), array(41.40082136), array(35.77785216), array(38.4756578), array(45.70117347), array(40.96431779), array(39.54587671), array(40.52554702), array(39.29830878), array(36.72210403), array(41.62168555), array(40.20089295), array(38.9410988), array(37.55308048), array(42.09198611), array(38.03419853), array(43.05521646), array(41.34552776), array(39.87693016)]\n",
      "[array(32.54051733), array(29.87886155), array(31.14004444), array(34.77541381), array(29.23581862), array(32.86597706), array(34.13727863), array(31.46013978), array(35.35121127), array(30.9391032), array(30.59812964), array(32.04658013), array(31.95895039), array(33.40732478), array(33.06157641), array(28.68567069), array(32.79573211), array(29.37141177), array(31.55997689), array(33.9571792), array(30.02990348), array(32.43816451), array(34.62139842), array(31.19695323), array(33.75074124), array(31.69667089), array(26.71293698), array(33.31709494), array(30.68059692), array(37.06224339), array(32.29654298), array(30.24473442), array(32.34047291), array(30.19506955), array(31.35100825), array(34.33188314), array(29.67417708), array(32.65607382), array(33.81689185), array(31.66140671), array(35.96850285), array(30.80193819), array(30.44297501), array(32.16491866), array(31.84185174), array(33.56114865), array(33.20023909), array(28.08703524), array(32.92543552), array(29.06062145), array(31.43924672), array(34.1553879), array(29.82810198), array(32.56013425), array(34.92687082), array(31.06841149), array(33.4784867), array(31.8941146), array(28.56736438), array(33.08340192), array(30.91586989), array(35.39333749), array(32.10038701), array(30.51585568), array(32.21988509), array(30.353864), array(30.7736863), array(36.07305916), array(27.90215849), array(33.21821995), array(33.63502204), array(31.77825087), array(34.44119302), array(31.28392266), array(30.15735033), array(32.35563487), array(31.63750718), array(33.83800247), array(32.71413814), array(29.54192794), array(33.15593802), array(28.31231097), array(31.87796502), array(33.51295322), array(30.49926139), array(32.12263123), array(35.71129986), array(30.85058448), array(34.27703257), array(31.38085648), array(29.02298743), array(32.95025308), array(31.05045079), array(35.00504646), array(32.62490667), array(29.73117042), array(32.02425219), array(30.61428999), array(31.00299975), array(35.1085648), array(28.87694669), array(32.99079289), array(33.37409101), array(31.97511421), array(34.70848933), array(31.15777443), array(29.96876867), array(32.47637152), array(31.51793831), array(34.02410529), array(32.84158047), array(29.26830998), array(33.29868923), array(27.27275865), array(31.76045553), array(33.67346501), array(30.33782922), array(32.24137192), array(36.77839645), array(30.70963757), array(33.9350375), array(31.58393996), array(29.51747394), array(32.7369293), array(31.26505833), array(34.49975997), array(32.42291949), array(30.0698771)]\n",
      "[array(60.44730786), array(59.70146238), array(55.52152629), array(62.51796756), array(58.40010849), array(61.78405952), array(60.71356643), array(58.78970188), array(59.33431923), array(61.18070253), array(61.63515808), array(58.14910608), array(64.84347549), array(57.38372731), array(59.59745397), array(60.27486032), array(60.11331265), array(59.43703314), array(56.95357079), array(63.54098704), array(57.8906448), array(61.42946727), array(60.99436339), array(59.1670725), array(58.97671985), array(60.88144528), array(62.03229087), array(58.6022672), array(62.91353397), array(56.56635278), array(59.86238311), array(60.60794809), array(61.97847151), array(58.25075137), array(58.7274607), array(60.74765125), array(59.80731404), array(60.31989959), array(62.44869539), array(56.00115319), array(57.64359074), array(63.83062051), array(60.21821078), array(59.63494863), array(61.30210199), array(59.20584302), array(58.09163449), array(61.71476205), array(61.49654968), array(57.83419974), array(59.02877376), array(61.11526005), array(59.47029873), array(60.06207159), array(63.12176378), array(57.30363112), array(56.78950629), array(62.81104609), array(60.48334056), array(59.96277081), array(60.92235436), array(58.91228546), array(58.47141822), array(62.24516466), array(58.20439827), array(61.58407416), array(61.2244174), array(59.29514123), array(60.31205022), array(59.5599936), array(57.46796828), array(64.3384427), array(62.61214641), array(54.7328236), array(59.74325199), array(60.4045005), array(58.8394035), array(60.66946594), array(61.84700122), array(58.34224091), array(58.55530538), array(62.09520162), array(60.84140307), array(59.01861898), array(60.56951753), array(59.89909663), array(56.39331937), array(63.02375354), array(63.35794493), array(57.08080325), array(59.39384826), array(60.15524541), array(59.12139132), array(61.04163986), array(61.37614171), array(57.9617608), array(59.67213878), array(60.18123779), array(64.09044965), array(57.56825588), array(61.76875666), array(58.03328628), array(59.24565988), array(61.25733115), array(60.7923916), array(58.67598456), array(58.31084566), array(61.91158317), array(56.27102453), array(62.36337985), array(60.36236308), array(59.76568649), array(59.92611096), array(60.52131869), array(62.71588238), array(56.91635703), array(62.17709476), array(58.519833), array(58.86918997), array(60.96313525), array(61.06706035), array(59.07541673), array(57.75796412), array(61.55229831), array(57.19592784), array(63.27008422), array(60.02022222), array(59.51303892)]\n",
      "[array(2682.13344478), array(2595.59042363), array(2562.82580255), array(2754.93228305), array(2859.12858972), array(2496.97509168), array(2628.29133666), array(2651.27053286), array(2713.49547007), array(2609.71439332), array(2558.24342798), array(2725.84516498), array(2781.04682734), array(2485.80463104), array(2641.17520367), array(2679.50282201), array(2824.46135112), array(2532.90024429), array(2623.19741838), array(2665.48270918), array(2697.4388496), array(2589.74438988), array(2582.40877506), array(2745.73002691), array(2785.07265566), array(2409.60877945), array(2642.20593215), array(2668.96514328), array(2701.43786054), array(2610.84508906), array(2540.68622601), array(2728.06656069), array(2473.9948611), array(2767.47310939), array(2677.11616552), array(2634.35878242), array(2602.33387579), array(2710.63640383), array(2717.80739761), array(2553.81501906), array(2515.7506376), array(2887.14594057), array(2657.4908048), array(2631.1942589), array(2598.79367221), array(2688.81267119), array(2759.00189738), array(2572.32219574), array(2618.04796646), array(2704.07751998), array(2736.87854275), array(2545.61709238), array(2443.48782735), array(2802.5204783), array(2671.36784334), array(2648.91663302), array(2586.2935473), array(2690.59667415), array(2742.06545679), array(2573.73055036), array(2518.23722838), array(2814.80298385), array(2659.15916604), array(2620.30162809), array(2666.06290888), array(2645.19806383), array(2384.87711664), array(2787.34751198), array(2732.04404684), array(2535.02486579), array(2611.98758688), array(2700.38079147), array(2662.43419796), array(2626.17839098), array(2531.03668704), array(2829.53990695), array(2750.56374552), array(2578.77225884), array(2590.81966703), array(2696.29175519), array(2724.65361197), array(2559.80099079), array(2606.45187744), array(2717.0294869), array(2680.47613856), array(2640.11191309), array(2496.45415289), array(2774.512243), array(2753.11377859), array(2564.17844227), array(2592.20918705), array(2685.32710914), array(2652.30041805), array(2627.37123566), array(2505.6014519), array(2837.82768426), array(2575.13869171), array(2740.65339104), array(2693.75401501), array(2582.55308176), array(2619.22350216), array(2660.06131003), array(2804.58674712), array(2525.04696473), array(2547.15315113), array(2735.38603672), array(2707.56973427), array(2615.02710071), array(2647.98626165), array(2672.45195079), array(2793.50324222), array(2463.34110072), array(2634.25836972), array(2654.59876338), array(2906.52264369), array(2513.09256204), array(2568.21839906), array(2764.33347871), array(2687.84416618), array(2599.96225826), array(2637.24604837), array(2674.03043404), array(2769.54792541), array(2469.59210083), array(2549.12465894), array(2721.65694186), array(2709.3669536), array(2603.37137216)]\n",
      "[array(177.82200415), array(181.10114251), array(176.05376902), array(188.72979288), array(172.4448411), array(184.58849296), array(179.37821276), array(182.55394753), array(184.17969023), array(172.13159312), array(182.41894787), array(179.07115632), array(180.40289182), array(177.25290588), array(187.06405177), array(175.07053998), array(183.19048288), array(179.98435257), array(185.6494346), array(173.87923048), array(189.72181132), array(176.37397115), array(181.32268608), array(177.99423589), array(174.74376219), array(186.49427614), array(177.01286093), array(180.23327318), array(178.50187782), array(181.77272535), array(168.08146647), array(183.41082398), array(171.49553705), array(184.00263315), array(178.84136975), array(182.12577377), array(177.514455), array(180.66631526), array(175.33021733), array(187.4368772), array(180.98047448), array(177.62673442), array(187.67949412), array(175.75181672), array(185.0277207), array(173.05285865), array(182.68523171), array(179.55815473), array(185.99680325), array(174.26465352), array(180.06938135), array(176.8555874), array(181.95138002), array(178.63387082), array(183.70033433), array(170.57122249), array(179.70756841), array(182.93403737), array(173.62954711), array(185.32280129), array(176.52590302), array(191.30506497), array(178.28801844), array(181.54760665), array(173.83473582), array(185.17055538), array(179.61725233), array(183.04866783), array(178.38200141), array(181.4478109), array(176.40441002), array(192.93246053), array(180.16487483), array(176.74641547), array(185.81957425), array(174.44375633), array(183.81672755), array(169.94901146), array(181.84840498), array(178.72712676), array(188.04483162), array(175.60706652), array(180.8767305), array(177.74745661), array(182.8032775), array(179.45034876), array(184.85420337), array(173.30821253), array(178.95133886), array(182.01509564), array(171.03205568), array(184.15117712), array(175.48211839), array(187.13037168), array(177.39100939), array(180.76929067), array(176.89055394), array(180.340751), array(174.92545414), array(186.26669486), array(161.42770741), array(183.53765309), array(178.60812129), array(181.6577538), array(185.46459862), array(174.0979462), array(183.3245679), array(179.88239951), array(181.21193386), array(178.10377809), array(190.49759396), array(176.23399907), array(182.31944323), array(179.16808844), array(184.31554097), array(171.81156806), array(186.81897089), array(175.21127761), array(180.49329247), array(177.14083223), array(175.93270275), array(189.19589016), array(177.92689283), array(181.0090255), array(179.28195672), array(182.65576155), array(172.71012399), array(184.44613469)]\n",
      "[array(190.53628207), array(188.52948768), array(191.27038144), array(189.37083615), array(189.09902077), array(190.09155246), array(189.98689629), array(191.02554941), array(189.72010465), array(190.74473999), array(189.14750508), array(190.19927063), array(191.89234967), array(189.66974299), array(190.41426248), array(188.44926207), array(188.95498434), array(190.03645487), array(189.88499316), array(190.91824276), array(190.6584305), array(188.70396493), array(191.50448429), array(189.43602646), array(191.61583097), array(189.55699255), array(190.35810456), array(187.9822984), array(189.77435389), array(190.87974915), array(189.23029235), array(190.30679114), array(189.84040556), array(190.79801999), array(189.30545233), array(190.23949152), array(191.6977365), array(189.54212658), array(190.37246038), array(187.78916032), array(190.58259921), array(188.81266724), array(191.36392354), array(189.50793247), array(188.90488766), array(190.05249266), array(189.8688518), array(190.96221466), array(192.49890343), array(189.60027714), array(190.48618648), array(188.21941141), array(189.73420079), array(190.71739998), array(189.17722484), array(190.18543334), array(189.0210111), array(190.15442191), array(189.92443676), array(191.11443585), array(190.51804878), array(188.60776129), array(191.20975224), array(189.39006384), array(188.66322148), array(190.50468312), array(189.40417458), array(191.16557001), array(190.1224224), array(189.02431832), array(191.11069781), array(189.95622588), array(190.68360325), array(189.75169032), array(190.16820682), array(189.21372038), array(189.63927288), array(192.36078405), array(188.25352097), array(190.44570781), array(190.06454743), array(188.86474197), array(190.99698448), array(189.8566651), array(188.80788448), array(190.62021024), array(189.47214127), array(191.36982424), array(189.52359798), array(191.82359363), array(187.23735689), array(190.39036825), array(190.80759619), array(189.80323962), array(190.27735388), array(189.29664327), array(190.84009084), array(189.79210674), array(190.28870448), array(189.2666847), array(189.59761968), array(191.58898851), array(188.03647264), array(190.31879985), array(188.75377549), array(190.64266158), array(189.45088092), array(191.43880508), array(190.00448487), array(188.95989767), array(190.91384368), array(189.91707501), array(189.65104823), array(192.08767916), array(188.35182274), array(190.43352682), array(190.75499308), array(189.68156851), array(190.23696816), array(189.13626451), array(190.10406594), array(189.06470289), array(191.06448419), array(189.97447854), array(188.52193034), array(190.57392438), array(189.33105036), array(191.27620151)]\n",
      "[array(219.40830424), array(220.06564257), array(224.76069853), array(214.8675984), array(212.05006413), array(231.30810083), array(222.11637358), array(218.16642017), array(223.41960564), array(215.7356543), array(218.78479908), array(221.07569105), array(223.21334355), array(217.54323745), array(213.72248799), array(226.6397176), array(216.22531017), array(224.08516015), array(221.49261395), array(219.04812428), array(216.8703054), array(222.81763777), array(226.11482589), array(212.49220184), array(220.51804614), array(219.61830497), array(215.35881816), array(225.71574505), array(229.09860341), array(209.91457739), array(217.58924845), array(221.70952823), array(226.36987552), array(212.99814114), array(216.72835072), array(222.61092079), array(221.37243183), array(218.86611891), array(216.3792051), array(224.33713899), array(217.84107618), array(221.99014414), array(228.10897445), array(204.16149988), array(215.00001634), array(225.23549321), array(220.74743528), array(219.88138664), array(222.24515394), array(218.35421367), array(211.61205358), array(229.70979788), array(224.5817998), array(214.55555138), array(219.52595217), array(220.24237571), array(214.19451441), array(227.33683011), array(222.94092564), array(217.2411338), array(218.55070829), array(220.80677573), array(223.71218905), array(216.10134319), array(225.1763855), array(215.19918449), array(219.91117791), array(220.61535348), array(221.80848332), array(217.9089481), array(208.99767197), array(227.85972269), array(218.94989808), array(221.18977084), array(224.23010548), array(216.61106147), array(213.30107767), array(226.33035949), array(222.4846758), array(216.75583933), array(220.97694885), array(218.48110956), array(215.88091728), array(223.80663239), array(227.43461794), array(213.9360375), array(217.21174646), array(223.09981339), array(214.332987), array(224.60169921), array(220.35804727), array(219.50515218), array(218.26598236), array(222.4372755), array(230.29071145), array(210.76451401), array(217.35937673), array(223.3031479), array(227.0642476), array(213.57694126), array(215.69694114), array(223.59070635), array(221.10785936), array(218.65441839), array(233.87368094), array(211.98180608), array(218.03563969), array(222.13222755), array(220.14296978), array(219.22844344), array(214.72152583), array(225.04135956), array(210.12248366), array(228.49222879), array(221.67140895), array(217.72833318), array(219.78159142), array(220.44969315), array(225.39928161), array(215.45555817), array(222.72925642), array(217.08967062), array(212.73161319), array(225.76038499), array(223.93004691), array(216.25670573), array(219.16709293), array(221.47587517)]\n",
      "[array(355.69516103), array(349.46798081), array(351.86863072), array(342.17521838), array(346.2934304), array(350.83327885), array(346.66449051), array(356.93917373), array(344.84061134), array(350.63455269), array(348.22670064), array(358.99414289), array(353.58940039), array(348.87592891), array(352.97204887), array(342.78405809), array(354.66855406), array(349.67643732), array(352.06743971), array(338.85819308), array(346.04776162), array(351.42410057), array(347.3804994), array(356.42988962), array(345.18345577), array(350.03351132), array(347.5983004), array(360.12785293), array(354.37940923), array(348.68639173), array(352.72772133), array(344.18378023), array(353.88304002), array(348.52278143), array(352.56390152), array(343.45728864), array(345.40496326), array(350.37152558), array(347.98874018), array(361.86845948), array(345.69260066), array(351.36481132), array(347.32675164), array(355.90990309), array(354.74336421), array(349.92016826), array(352.34554974), array(339.4470628), array(353.63889605), array(349.11425854), array(353.27597753), array(342.93317228), array(344.39691028), array(350.58093428), array(348.18587489), array(358.00290068), array(346.47518087), array(351.17557819), array(347.08303477), array(357.349803), array(355.07982458), array(349.31795449), array(351.72078793), array(340.74490092), array(349.55869583), array(355.4531336), array(341.78207009), array(351.93610056), array(350.94361764), array(346.21031178), array(356.71001858), array(346.82519992), array(350.74729118), array(344.73786195), array(358.61225534), array(348.37417482), array(348.9589554), array(353.41154973), array(342.45205378), array(353.04358467), array(349.74236742), array(354.50774772), array(335.83824142), array(352.16283053), array(351.56325232), array(345.92740098), array(356.28223628), array(347.50082404), array(350.1696753), array(345.04783206), array(359.72202966), array(347.72627798), array(348.7449271), array(354.21345131), array(343.90714506), array(352.82591775), array(348.48921889), array(354.14275843), array(343.81825385), array(352.55171679), array(350.21057552), array(345.42124635), array(362.49004952), array(347.78293242), array(351.20191283), array(345.71249828), array(355.99373724), array(347.11785031), array(349.87888047), array(355.03203824), array(340.59453456), array(352.33020838), array(349.10650637), array(353.85572374), array(343.40384551), array(353.23252673), array(350.39490262), array(344.46230284), array(358.03049172), array(348.00984941), array(350.98917106), array(346.52401376), array(357.39969506), array(346.89778029), array(349.30098078), array(355.34596284), array(341.606807), array(351.68029268)]\n",
      "[array(0.38856759), array(0.40286911), array(0.4188338), array(0.39384036), array(0.39733468), array(0.41036773), array(0.40639745), array(0.37511136), array(0.41227746), array(0.39674992), array(0.39273654), array(0.40072151), array(0.4038767), array(0.38729408), array(0.39986622), array(0.40701125), array(0.41688733), array(0.39430557), array(0.39059671), array(0.40166455), array(0.40501588), array(0.38387834), array(0.39773699), array(0.4097117), array(0.39221482), array(0.40111016), array(0.4153144), array(0.39548717), array(0.39869205), array(0.40860808), array(0.40429743), array(0.38635822), array(0.38284087), array(0.40573355), array(0.40935038), array(0.398401), array(0.39494542), array(0.41636358), array(0.40219757), array(0.39034141), array(0.40783142), array(0.39882473), array(0.38488862), array(0.40447607), array(0.40137235), array(0.39134369), array(0.39573993), array(0.41347955), array(0.41135545), array(0.39719187), array(0.38081476), array(0.40620728), array(0.40260557), array(0.38969938), array(0.39355313), array(0.42646119), array(0.38784425), array(0.40320862), array(0.40731591), array(0.39921976), array(0.39616661), array(0.41257571), array(0.40019149), array(0.39293835), array(0.41049269), array(0.39751275), array(0.37646431), array(0.40661041), array(0.4030984), array(0.38916101), array(0.39410348), array(0.42117869), array(0.38724044), array(0.40374441), array(0.40698064), array(0.39974329), array(0.39646525), array(0.41153073), array(0.4004524), array(0.39224898), array(0.38413846), array(0.40521233), array(0.4098286), array(0.39791337), array(0.39456175), array(0.41839728), array(0.40188734), array(0.39108238), array(0.40857343), array(0.39856797), array(0.38629748), array(0.4041629), array(0.40084023), array(0.39170669), array(0.39518755), array(0.41422093), array(0.41574537), array(0.39486075), array(0.39006615), array(0.40212139), array(0.40536351), array(0.38178432), array(0.39807873), array(0.40901316), array(0.39151947), array(0.40139769), array(0.41378823), array(0.39576729), array(0.39919321), array(0.40820349), array(0.40488509), array(0.385685), array(0.38940537), array(0.40252864), array(0.42294856), array(0.39346134), array(0.39686019), array(0.41094359), array(0.40582708), array(0.37918483), array(0.4128491), array(0.39619352), array(0.39309377), array(0.40021659), array(0.40359706), array(0.38839094), array(0.39958708), array(0.4076732)]\n",
      "[array(0.4997871), array(0.47015981), array(0.48522164), array(0.47717107), array(0.4736856), array(0.48196492), array(0.46211205), array(0.49027489), array(0.47889506), array(0.48368058), array(0.47305245), array(0.49477315), array(0.48870126), array(0.46824112), array(0.48041076), array(0.47558137), array(0.47151044), array(0.4920546), array(0.47924548), array(0.48404248), array(0.48085799), array(0.47605595), array(0.48700864), array(0.46537022), array(0.48673812), array(0.4783823), array(0.49720204), array(0.46947088), array(0.45984404), array(0.48976025), array(0.47505558), array(0.48308425), array(0.49563981), array(0.46860715), array(0.48602958), array(0.47787515), array(0.4744986), array(0.48267341), array(0.45044854), array(0.48888702), array(0.47977656), array(0.4846456), array(0.47214862), array(0.49298835), array(0.48774491), array(0.46673889), array(0.48129892), array(0.47653204), array(0.47271011), array(0.49413958), array(0.47855302), array(0.48331343), array(0.48017569), array(0.47530031), array(0.48819088), array(0.46756207), array(0.48567356), array(0.4774797), array(0.5016445), array(0.4705942), array(0.46347244), array(0.49093701), array(0.47403027), array(0.48217522), array(0.48384127), array(0.47903942), array(0.49435715), array(0.47286003), array(0.46773074), array(0.4883533), array(0.47584618), array(0.4806588), array(0.47039084), array(0.50098365), array(0.47701483), array(0.48505771), array(0.48171926), array(0.47338037), array(0.49070492), array(0.46319972), array(0.47813048), array(0.4864376), array(0.46988245), array(0.49840917), array(0.49000422), array(0.46083483), array(0.48293354), array(0.47488519), array(0.49156941), array(0.47114983), array(0.48431317), array(0.47948791), array(0.4762111), array(0.48100874), array(0.4649188), array(0.48682616), array(0.48480617), array(0.4799263), array(0.49264696), array(0.47195106), array(0.466132), array(0.48741436), array(0.47679391), array(0.48154294), array(0.46888981), array(0.49614893), array(0.47772799), array(0.48585091), array(0.48241762), array(0.47421539), array(0.48925205), array(0.45725204), array(0.47722919), array(0.48538458), array(0.47097294), array(0.50537786), array(0.49120199), array(0.46403273), array(0.48202174), array(0.47385725), array(0.49349638), array(0.47239136), array(0.48357014), array(0.47880328), array(0.47546728), array(0.48031972), array(0.46724451), array(0.48798318)]\n",
      "[array(31.48986614), array(35.68620594), array(32.08026694), array(29.24249628), array(32.9203189), array(30.57576675), array(31.00591879), array(34.25760353), array(33.11310939), array(29.96576982), array(31.11337528), array(33.49267086), array(31.94738143), array(34.87828382), array(32.62601377), array(28.86111469), array(32.23369351), array(29.47392336), array(31.5617004), array(35.76198699), array(30.66803111), array(33.80818925), array(32.69050491), array(30.31241728), array(31.27674199), array(33.61335899), array(33.20422016), array(29.99240911), array(32.32476217), array(26.75006997), array(31.73741942), array(34.42747249), array(30.34977799), array(32.76197919), array(33.96468656), array(30.83874392), array(37.5030227), array(31.65843894), array(29.58627939), array(32.24596758), array(34.47403472), array(31.80004565), array(28.08748845), array(32.47296362), array(30.19819846), array(33.3145857), array(33.69375357), array(31.2944193), array(34.0767042), array(30.84607106), array(30.54033242), array(32.84817071), array(29.10621635), array(32.06781271), array(35.12003132), array(31.3901507), array(28.43159462), array(32.47666324), array(34.81700952), array(31.88729333), array(33.42014116), array(31.09399047), array(29.73682527), array(33.00860124), array(27.45551447), array(32.38274494), array(34.3329988), array(31.71128273), array(33.59766054), array(31.19987043), array(30.09280033), array(33.20704639), array(33.8564391), array(30.73272055), array(30.25147892), array(32.66806272), array(29.43781488), array(32.15743585), array(36.25720472), array(31.56861776), array(35.01543894), array(31.9755044), array(28.72681162), array(32.56780108), array(29.86231385), array(33.10996845), array(33.50983773), array(31.19066178), array(30.6284257), array(32.94565507), array(34.19793681), array(30.94861244), array(35.375872), array(31.48182568), array(29.28919707), array(32.1561305), array(31.03715087), array(33.37870447), array(33.03391294), array(29.811889), array(32.55436855), array(28.51441496), array(31.87880234), array(34.6494916), array(32.01175234), array(28.99396252), array(31.41869298), array(35.28504478), array(30.92753383), array(34.09809317), array(32.84479759), array(30.45982381), array(33.28740476), array(30.13323263), array(31.34950032), array(33.73862687), array(31.80643969), array(34.62304742), array(32.394374), array(27.96805946), array(31.63162412), array(36.48812571), array(32.30290439), array(29.65875772), array(32.76376361), array(30.43511083), array(30.75235867), array(33.94497658)]\n",
      "[array(0.00037466), array(0.0003876), array(0.00034803), array(0.00037748), array(0.00037135), array(0.00038207), array(0.00036476), array(0.00038162), array(0.00036017), array(0.00037581), array(0.00037321), array(0.00039183), array(0.00036701), array(0.00037985), array(0.00036946), array(0.00038444), array(0.00037353), array(0.00038839), array(0.00035878), array(0.00037702), array(0.00037087), array(0.00038374), array(0.00036532), array(0.00038028), array(0.00036274), array(0.00037557), array(0.00037184), array(0.00039464), array(0.00036773), array(0.00037841), array(0.00036917), array(0.00038619), array(0.00038722), array(0.00037444), array(0.00037816), array(0.00035521), array(0.00038229), array(0.00037158), array(0.00038082), array(0.00036384), array(0.00037643), array(0.00036169), array(0.00039135), array(0.00037293), array(0.00037918), array(0.00036621), array(0.00038464), array(0.00036977), array(0.00038977), array(0.00037419), array(0.0003768), array(0.00035809), array(0.00038301), array(0.00037014), array(0.00038053), array(0.00036558), array(0.0003753), array(0.00036248), array(0.00040343), array(0.00037248), array(0.0003787), array(0.00036789), array(0.0003852), array(0.00036843), array(0.0003795), array(0.00036692), array(0.00038389), array(0.00036944), array(0.00037613), array(0.00036038), array(0.00039357), array(0.00037323), array(0.00038191), array(0.00037105), array(0.0003814), array(0.00036437), array(0.00038788), array(0.00037493), array(0.00037765), array(0.00035254), array(0.00037839), array(0.00036725), array(0.00038606), array(0.0003688), array(0.00037559), array(0.00036348), array(0.00039516), array(0.00037218), array(0.00038342), array(0.00037068), array(0.00037996), array(0.00036511), array(0.00038896), array(0.0003737), array(0.0003773), array(0.00035922), array(0.00036661), array(0.00037931), array(0.00037003), array(0.00038491), array(0.00036099), array(0.0003763), array(0.0003727), array(0.00039071), array(0.00037166), array(0.00038271), array(0.00036388), array(0.00038126), array(0.00037437), array(0.00038659), array(0.00035507), array(0.00037778), array(0.00036811), array(0.00037894), array(0.00036859), array(0.00038566), array(0.00036208), array(0.00037507), array(0.00037235), array(0.00039721), array(0.00037054), array(0.00038304), array(0.00036607), array(0.00038061), array(0.00037383), array(0.00038971), array(0.00035661), array(0.00037673)]\n",
      "[array(219.33882355), array(223.5384545), array(219.19685796), array(220.08719595), array(219.74358163), array(221.02623196), array(218.49863746), array(220.48786994), array(219.91898089), array(220.79435195), array(217.20490395), array(220.65380797), array(219.51889114), array(221.48333096), array(218.98414264), array(220.24982569), array(220.70017464), array(219.97025558), array(220.54491788), array(218.31911457), array(221.25334394), array(219.63955817), array(220.17755948), array(219.06739093), array(221.7054313), array(219.44801634), array(220.03606589), array(219.29184606), array(220.94239105), array(219.8160965), array(220.36669146), array(218.7331979), array(218.8609841), array(220.30313109), array(219.59309928), array(221.35192281), array(218.11418879), array(220.5960188), array(219.8477161), array(220.86411426), array(218.6387837), array(220.41119207), array(219.69314522), array(221.14570389), array(219.13070445), array(220.15580307), array(219.39953491), array(221.90961816), array(220.35610709), array(218.80030448), array(220.95515491), array(219.78723888), array(220.04482055), array(219.25581404), array(221.65713612), array(219.48210018), array(220.20927344), array(219.05055142), array(221.19179383), array(219.6479223), array(220.51349001), array(218.35763876), array(220.73971282), array(219.95882348), array(220.83221421), array(219.87220229), array(220.61467423), array(218.0075442), array(221.39332093), array(219.57600031), array(220.27799797), array(218.90286304), array(222.04001539), array(219.37768194), array(220.13392445), array(219.15947297), array(221.10832127), array(219.71592124), array(220.43083247), array(218.58983066), array(219.50133941), array(221.6009338), array(219.22425844), array(220.06772808), array(219.76362668), array(220.99289929), array(218.83069133), array(220.33831124), array(219.9382156), array(220.76765656), array(218.42168577), array(220.49170794), array(219.66843706), array(221.15718132), array(219.01675609), array(220.23020018), array(220.46209074), array(218.5674921), array(221.05209366), array(219.72623231), array(220.10417679), array(219.17608704), array(222.34043611), array(219.36702718), array(220.26984553), array(218.95461484), array(221.42245101), array(219.54169566), array(220.62853688), array(217.70920391), array(220.81859739), array(219.89969953), array(219.09204662), array(220.16165195), array(219.61371965), array(221.30410018), array(218.21969537), array(220.57327248), array(219.98578667), array(220.67949963), array(218.68769327), array(220.39010798), array(219.83435288), array(220.91356683), array(219.31553192), array(220.01792664), array(219.4226294), array(221.79796495)]\n",
      "[array(1024.64662528), array(1029.82810312), array(1027.57756179), array(1019.20892651), array(1023.37987123), array(1033.09747011), array(1026.07844827), array(1021.1276113), array(1031.50992611), array(1022.25861921), array(1020.41251072), array(1025.00339104), array(1028.433601), array(1024.06511166), array(1016.27363912), array(1026.99183014), array(1026.35263569), array(1021.03199449), array(1022.66119646), array(1035.8095663), array(1028.1884916), array(1017.48806491), array(1024.52691871), array(1030.3574345), array(1014.59807885), array(1027.07488385), array(1029.32289887), array(1023.58998943), array(1019.56830608), array(1025.71265577), array(1031.814542), array(1021.87704026), array(1031.04635672), array(1022.50043022), array(1020.08133473), array(1025.21420898), array(1028.66744015), array(1023.87952713), array(1017.00755233), array(1026.79661711), array(1024.83010165), array(1029.54381954), array(1027.78917934), array(1018.83444095), array(1023.15770798), array(1033.99716799), array(1025.86520695), array(1021.40419207), array(1010.59635511), array(1027.30610552), array(1029.02525656), array(1023.80727664), array(1019.88399618), array(1025.530264), array(1032.30474838), array(1021.65394263), array(1026.54295753), array(1020.77670646), array(1022.86294399), array(1034.41306618), array(1027.93694321), array(1018.07861475), array(1024.31698654), array(1030.74359389), array(1025.15771677), array(1020.4748321), array(1022.19637705), array(1031.19166157), array(1026.82913062), array(1016.06332563), array(1024.12247905), array(1028.61177817), array(1018.92797029), array(1027.51331769), array(1029.89905468), array(1024.79810749), array(1021.3166268), array(1026.1331453), array(1032.948393), array(1023.21635978), array(1023.44432311), array(1029.24091745), array(1027.12357936), array(1015.6572594), array(1022.04836492), array(1031.9532219), array(1025.67072858), array(1019.28026223), array(1038.7551996), array(1022.70742908), array(1020.95790244), array(1026.20543464), array(1030.09559537), array(1024.48210883), array(1017.65925907), array(1028.36124321), array(1018.51827077), array(1027.72707387), array(1029.60626853), array(1024.984497), array(1021.5820232), array(1025.9225151), array(1033.78273311), array(1022.99477556), array(1025.36576892), array(1020.15245513), array(1022.43632073), array(1030.76698478), array(1026.63290116), array(1016.85652903), array(1023.93415438), array(1028.85604036), array(1035.51033956), array(1022.91163314), array(1020.69502041), array(1026.39735931), array(1030.45394593), array(1024.27510275), array(1018.21602611), array(1028.1080066), array(1023.66013746), array(1028.95141611), array(1027.3523259), array(1014.05939471), array(1021.82639624), array(1032.4739626), array(1025.48550569), array(1019.62090189)]\n",
      "[array(18.5537727), array(14.5884776), array(17.7474031), array(16.69400307), array(17.34657814), array(15.76495266), array(21.50045883), array(15.04365454), array(19.45784462), array(15.41556578), array(17.28922385), array(16.27084629), array(18.21375522), array(16.67086352), array(18.99204645), array(12.17609792), array(13.67316708), array(19.06819845), array(16.38477368), array(18.07164104), array(16.14797727), array(17.01721582), array(15.46103454), array(19.92587555), array(14.96945358), array(20.24052454), array(15.90893997), array(17.63300245), array(16.96524305), array(17.87109972), array(14.13631212), array(18.50999701), array(17.48833165), array(15.96864394), array(20.51887992), array(14.73092462), array(18.37717448), array(14.16460088), array(17.8989381), array(16.86800076), array(18.05103523), array(16.49346994), array(19.22864951), array(13.57990135), array(19.7750991), array(15.65069214), array(17.1490796), array(16.08268221), array(16.29873388), array(17.19228414), array(15.27354047), array(19.48311183), array(12.95076477), array(18.7844249), array(16.53052893), array(18.27858814), array(16.82516612), array(17.68265504), array(14.46934326), array(18.75836149), array(15.18191827), array(21.23973537), array(15.74210134), array(17.45225156), array(18.40117015), array(14.32827605), array(17.96325846), array(16.89202963), array(17.54634717), array(15.99290803), array(20.59991583), array(14.8419347), array(19.72752269), array(15.5702017), array(17.09103114), array(16.05552633), array(17.98741011), array(16.47183106), array(19.19726667), array(13.28388826), array(13.06162606), array(18.87540707), array(16.58582596), array(18.30370473), array(16.35946432), array(17.21485696), array(15.29942662), array(19.62152018), array(15.15932019), array(20.79522936), array(15.67515904), array(17.43112104), array(16.76784474), array(17.65914189), array(14.42836923), array(18.66929036), array(17.36697601), array(15.8307133), array(23.62639647), array(15.06838292), array(18.6393477), array(14.6245722), array(17.77185689), array(16.75104942), array(18.19016417), array(16.61532347), array(18.89712799), array(11.81756999), array(19.33091837), array(15.39183766), array(17.2658654), array(16.20987359), array(16.17382563), array(17.07587331), array(15.54380175), array(19.98294327), array(13.89544481), array(19.096286), array(16.4073879), array(18.13591852), array(16.94179563), array(17.80747841), array(13.94864192), array(18.48432764), array(14.86506799), array(20.18207207), array(15.88351207), array(17.57482976)]\n",
      "[array(1.33235654), array(1.1887589), array(1.47289194), array(1.29137611), array(1.23998489), array(1.37278724), array(1.15563596), array(1.31720589), array(1.26745572), array(1.40978518), array(1.12568089), array(1.30793859), array(1.35921815), array(1.2268218), array(1.44212013), array(1.2825983), array(1.21752171), array(1.35573326), array(1.26950638), array(1.42121317), array(1.39185467), array(1.25148173), array(1.30697135), array(1.09701362), array(1.38205682), array(1.24348463), array(1.33029058), array(1.17709043), array(1.20693466), array(1.34831912), array(1.2923448), array(1.5005718), array(1.28693988), array(1.45586881), array(1.19825966), array(1.33809965), array(1.32069142), array(1.16471181), array(1.3696379), array(1.23704156), array(1.31337433), array(1.14637669), array(1.40203161), array(1.26274393), array(1.28012677), array(1.43576424), array(1.23120626), array(1.36332055), array(1.42868479), array(1.27306601), array(1.35290075), array(1.21404836), array(1.03118491), array(1.30254849), array(1.2574602), array(1.40042217), array(1.17174682), array(1.32776509), array(1.24743905), array(1.3869154), array(1.61270017), array(1.29776405), array(1.3434026), array(1.19986592), array(1.41860928), array(1.27188496), array(1.35436354), array(1.22047283), array(1.11124467), array(1.30576126), array(1.25406352), array(1.38998252), array(1.18296372), array(1.32829537), array(1.246421), array(1.37995526), array(1.49054698), array(1.29490402), array(1.34614779), array(1.21121263), array(1.28997883), array(1.48475558), array(1.18677892), array(1.33447491), array(1.31921148), array(1.15248836), array(1.37599413), array(1.23834754), array(1.31068812), array(1.11685009), array(1.41475408), array(1.26572567), array(1.28096602), array(1.44988826), array(1.22442223), array(1.36247582), array(1.21565194), array(1.35040174), array(1.27444265), array(1.42376673), array(1.39676705), array(1.25887856), array(1.30039204), array(1.05985904), array(1.38337727), array(1.24923881), array(1.32474143), array(1.17584931), array(1.20292436), array(1.3402476), array(1.29930844), array(1.52963588), array(1.3391702), array(1.19473233), array(1.46096164), array(1.2845762), array(1.23412446), array(1.37146163), array(1.1594478), array(1.32173876), array(1.25995875), array(1.4049309), array(1.13654836), array(1.31511977), array(1.36548435), array(1.22765518), array(1.4400781), array(1.27745204)]\n",
      "InVals loaded from 'test_invars.csv' and converted to variables\n"
     ]
    }
   ],
   "source": [
    "sim.importInVars(r\"C:\\Users\\mvandenberg7\\surfdrive\\PhD\\ice_classic\\sandbox\\content\\DVARS\\test_invars.csv\")"
   ]
  },
  {
   "cell_type": "code",
   "execution_count": 10,
   "id": "1270cc65",
   "metadata": {},
   "outputs": [
    {
     "data": {
      "text/plain": [
       "[array(0.6891018),\n",
       " array(0.71285949),\n",
       " array(0.72152417),\n",
       " array(0.68121696),\n",
       " array(0.65399028),\n",
       " array(0.73450216),\n",
       " array(0.70387554),\n",
       " array(0.69449225),\n",
       " array(0.69942383),\n",
       " array(0.70208281),\n",
       " array(0.7284099),\n",
       " array(0.675211),\n",
       " array(0.68374245),\n",
       " array(0.7142012),\n",
       " array(0.70728087),\n",
       " array(0.69105491),\n",
       " array(0.69250303),\n",
       " array(0.70912838),\n",
       " array(0.71648897),\n",
       " array(0.68553785),\n",
       " array(0.67102507),\n",
       " array(0.72514997),\n",
       " array(0.70074172),\n",
       " array(0.69771419),\n",
       " array(0.69634254),\n",
       " array(0.70534935),\n",
       " array(0.74408291),\n",
       " array(0.66641036),\n",
       " array(0.6788545),\n",
       " array(0.71854687),\n",
       " array(0.71072158),\n",
       " array(0.6874028),\n",
       " array(0.68779101),\n",
       " array(0.71038946),\n",
       " array(0.71902066),\n",
       " array(0.67839204),\n",
       " array(0.66732325),\n",
       " array(0.74050889),\n",
       " array(0.70555445),\n",
       " array(0.6959737),\n",
       " array(0.697377),\n",
       " array(0.70102234),\n",
       " array(0.7244734),\n",
       " array(0.67171283),\n",
       " array(0.68522475),\n",
       " array(0.71701295),\n",
       " array(0.70889334),\n",
       " array(0.69288134),\n",
       " array(0.69135607),\n",
       " array(0.70691717),\n",
       " array(0.71452757),\n",
       " array(0.68331005),\n",
       " array(0.6759985),\n",
       " array(0.72778148),\n",
       " array(0.70243197),\n",
       " array(0.69920451),\n",
       " array(0.69419716),\n",
       " array(0.70420787),\n",
       " array(0.73337148),\n",
       " array(0.65743213),\n",
       " array(0.68060104),\n",
       " array(0.72192927),\n",
       " array(0.71242394),\n",
       " array(0.68933645),\n",
       " array(0.68999739),\n",
       " array(0.7119121),\n",
       " array(0.72298095),\n",
       " array(0.67995921),\n",
       " array(0.66125493),\n",
       " array(0.73145019),\n",
       " array(0.70467521),\n",
       " array(0.6936749),\n",
       " array(0.69863757),\n",
       " array(0.70287342),\n",
       " array(0.72641037),\n",
       " array(0.67681463),\n",
       " array(0.68262846),\n",
       " array(0.71522568),\n",
       " array(0.70644799),\n",
       " array(0.69191381),\n",
       " array(0.69333913),\n",
       " array(0.70826602),\n",
       " array(0.71761377),\n",
       " array(0.68450359),\n",
       " array(0.67309957),\n",
       " array(0.7235121),\n",
       " array(0.70152822),\n",
       " array(0.69692263),\n",
       " array(0.69554499),\n",
       " array(0.70616451),\n",
       " array(0.73779195),\n",
       " array(0.66926761),\n",
       " array(0.67742921),\n",
       " array(0.71978979),\n",
       " array(0.7098297),\n",
       " array(0.68834305),\n",
       " array(0.68683428),\n",
       " array(0.71129478),\n",
       " array(0.71782064),\n",
       " array(0.67974832),\n",
       " array(0.66388592),\n",
       " array(0.75052783),\n",
       " array(0.704746),\n",
       " array(0.69676799),\n",
       " array(0.69816636),\n",
       " array(0.70023671),\n",
       " array(0.72621767),\n",
       " array(0.66940243),\n",
       " array(0.68623259),\n",
       " array(0.71591548),\n",
       " array(0.70976811),\n",
       " array(0.69203816),\n",
       " array(0.69048647),\n",
       " array(0.70775706),\n",
       " array(0.71352801),\n",
       " array(0.68439387),\n",
       " array(0.67430858),\n",
       " array(0.73000019),\n",
       " array(0.70164332),\n",
       " array(0.69999),\n",
       " array(0.69500853),\n",
       " array(0.70341196),\n",
       " array(0.73706068),\n",
       " array(0.63822739),\n",
       " array(0.68182191),\n",
       " array(0.72055049),\n",
       " array(0.71338701),\n",
       " array(0.68842455)]"
      ]
     },
     "execution_count": 10,
     "metadata": {},
     "output_type": "execute_result"
    }
   ],
   "source": [
    "sim.invars['Var1'].vals"
   ]
  },
  {
   "cell_type": "code",
   "execution_count": null,
   "id": "4dc3813f",
   "metadata": {},
   "outputs": [],
   "source": [
    "sim.importOutVars(r\"C:\\Users\\mvandenberg7\\surfdrive\\PhD\\ice_classic\\sandbox\\content\\DVARS\\test_outvars.csv\")"
   ]
  },
  {
   "cell_type": "code",
   "execution_count": null,
   "id": "f7d8a603",
   "metadata": {},
   "outputs": [],
   "source": [
    "sim.outvars['Out1'].vals"
   ]
  },
  {
   "cell_type": "code",
   "execution_count": null,
   "id": "ddd774a3",
   "metadata": {},
   "outputs": [],
   "source": [
    "# sim.calcSensitivities('Out1', verbose=False)"
   ]
  },
  {
   "cell_type": "code",
   "execution_count": null,
   "id": "407063cb",
   "metadata": {},
   "outputs": [],
   "source": [
    "# fig, ax = mc.plot_sensitivities(sim.outvars['Out1'])"
   ]
  },
  {
   "cell_type": "code",
   "execution_count": null,
   "id": "3beaacfa",
   "metadata": {},
   "outputs": [],
   "source": [
    "plot_invar = sim.invars['Var18']\n",
    "plot_outvar = sim.outvars['Out1']\n",
    "fig, axs = mc.multi_plot([plot_invar, plot_outvar], rug_plot=True, cov_plot=True)"
   ]
  },
  {
   "cell_type": "code",
   "execution_count": 9,
   "id": "e5d178ee",
   "metadata": {},
   "outputs": [
    {
     "data": {
      "text/plain": [
       "Case(ncase=0,\n",
       "  invals={} \n",
       "  outvals={})"
      ]
     },
     "execution_count": 9,
     "metadata": {},
     "output_type": "execute_result"
    }
   ],
   "source": [
    "sim.cases[0]"
   ]
  },
  {
   "cell_type": "code",
   "execution_count": null,
   "id": "a0b76dfe",
   "metadata": {},
   "outputs": [],
   "source": [
    "sim.invars['Var1'].plot()"
   ]
  },
  {
   "cell_type": "code",
   "execution_count": null,
   "id": "5b21784a",
   "metadata": {},
   "outputs": [],
   "source": [
    "len(sim.cases)"
   ]
  },
  {
   "cell_type": "code",
   "execution_count": null,
   "id": "619a86f2",
   "metadata": {},
   "outputs": [],
   "source": []
  }
 ],
 "metadata": {
  "kernelspec": {
   "display_name": "Python 3 (ipykernel)",
   "language": "python",
   "name": "python3"
  },
  "language_info": {
   "codemirror_mode": {
    "name": "ipython",
    "version": 3
   },
   "file_extension": ".py",
   "mimetype": "text/x-python",
   "name": "python",
   "nbconvert_exporter": "python",
   "pygments_lexer": "ipython3",
   "version": "3.11.4"
  }
 },
 "nbformat": 4,
 "nbformat_minor": 5
}
